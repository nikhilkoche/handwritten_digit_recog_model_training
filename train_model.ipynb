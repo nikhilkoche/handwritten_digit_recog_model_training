{
 "cells": [
  {
   "cell_type": "code",
   "execution_count": 1,
   "metadata": {},
   "outputs": [
    {
     "name": "stderr",
     "output_type": "stream",
     "text": [
      "C:\\Users\\ZEUS\\Anaconda3\\lib\\site-packages\\h5py\\__init__.py:36: FutureWarning: Conversion of the second argument of issubdtype from `float` to `np.floating` is deprecated. In future, it will be treated as `np.float64 == np.dtype(float).type`.\n",
      "  from ._conv import register_converters as _register_converters\n",
      "Using TensorFlow backend.\n"
     ]
    }
   ],
   "source": [
    "import keras \n",
    "from keras.datasets import mnist\n",
    "from keras.models import Sequential\n",
    "from keras.layers import Dense, Dropout\n",
    "from keras.layers import Flatten, MaxPooling2D, Conv2D\n",
    "from keras.callbacks import TensorBoard"
   ]
  },
  {
   "cell_type": "code",
   "execution_count": 2,
   "metadata": {},
   "outputs": [],
   "source": [
    "(X_train,y_train), (X_test, y_test) = mnist.load_data()\n",
    "\n",
    "X_train = X_train.reshape(60000,28,28,1).astype('float32')\n",
    "X_test = X_test.reshape(10000,28,28,1).astype('float32')\n",
    "\n",
    "X_train /= 255\n",
    "X_test /= 255\n",
    "\n",
    "n_classes = 10\n",
    "y_train = keras.utils.to_categorical(y_train, n_classes)\n",
    "y_test = keras.utils.to_categorical(y_test, n_classes)"
   ]
  },
  {
   "cell_type": "code",
   "execution_count": 3,
   "metadata": {},
   "outputs": [],
   "source": [
    "model = Sequential()\n",
    "model.add(Conv2D(32, kernel_size=(3,3), activation='relu', input_shape=(28,28,1)) )\n",
    "model.add(Conv2D(64, kernel_size=(3,3), activation='relu'))\n",
    "model.add(MaxPooling2D(pool_size=(2,2)))\n",
    "model.add(Dropout(0.25))\n",
    "model.add(Flatten())          \n",
    "model.add(Dense(128, activation='relu'))\n",
    "model.add(Dropout(0.5))\n",
    "model.add(Dense(n_classes, activation='softmax'))"
   ]
  },
  {
   "cell_type": "code",
   "execution_count": 4,
   "metadata": {},
   "outputs": [],
   "source": [
    "model.compile(loss='categorical_crossentropy', optimizer='adam', metrics=['accuracy'])"
   ]
  },
  {
   "cell_type": "code",
   "execution_count": 5,
   "metadata": {},
   "outputs": [],
   "source": [
    "tensor_board = TensorBoard('./logs/LeNet-MNIST-1')"
   ]
  },
  {
   "cell_type": "code",
   "execution_count": 6,
   "metadata": {},
   "outputs": [
    {
     "name": "stdout",
     "output_type": "stream",
     "text": [
      "Train on 60000 samples, validate on 10000 samples\n",
      "Epoch 1/15\n",
      "60000/60000 [==============================] - 272s 5ms/step - loss: 0.2556 - acc: 0.9229 - val_loss: 0.0553 - val_acc: 0.9821\n",
      "Epoch 2/15\n",
      "60000/60000 [==============================] - 268s 4ms/step - loss: 0.0905 - acc: 0.9735 - val_loss: 0.0386 - val_acc: 0.9877\n",
      "Epoch 3/15\n",
      "60000/60000 [==============================] - 271s 5ms/step - loss: 0.0663 - acc: 0.9795 - val_loss: 0.0372 - val_acc: 0.9876\n",
      "Epoch 4/15\n",
      "60000/60000 [==============================] - 278s 5ms/step - loss: 0.0556 - acc: 0.9833 - val_loss: 0.0328 - val_acc: 0.9898\n",
      "Epoch 5/15\n",
      "60000/60000 [==============================] - 284s 5ms/step - loss: 0.0460 - acc: 0.9854 - val_loss: 0.0311 - val_acc: 0.9903\n",
      "Epoch 6/15\n",
      "60000/60000 [==============================] - 291s 5ms/step - loss: 0.0404 - acc: 0.9872 - val_loss: 0.0304 - val_acc: 0.9909\n",
      "Epoch 7/15\n",
      "60000/60000 [==============================] - 278s 5ms/step - loss: 0.0362 - acc: 0.9889 - val_loss: 0.0292 - val_acc: 0.9917\n",
      "Epoch 8/15\n",
      "60000/60000 [==============================] - 280s 5ms/step - loss: 0.0339 - acc: 0.9892 - val_loss: 0.0298 - val_acc: 0.9918\n",
      "Epoch 9/15\n",
      "60000/60000 [==============================] - 286s 5ms/step - loss: 0.0297 - acc: 0.9901 - val_loss: 0.0294 - val_acc: 0.9920\n",
      "Epoch 10/15\n",
      "60000/60000 [==============================] - 289s 5ms/step - loss: 0.0278 - acc: 0.9910 - val_loss: 0.0267 - val_acc: 0.9918\n",
      "Epoch 11/15\n",
      "60000/60000 [==============================] - 266s 4ms/step - loss: 0.0252 - acc: 0.9919 - val_loss: 0.0270 - val_acc: 0.9925\n",
      "Epoch 12/15\n",
      "60000/60000 [==============================] - 268s 4ms/step - loss: 0.0219 - acc: 0.9929 - val_loss: 0.0304 - val_acc: 0.9926\n",
      "Epoch 13/15\n",
      "60000/60000 [==============================] - 269s 4ms/step - loss: 0.0214 - acc: 0.9928 - val_loss: 0.0272 - val_acc: 0.9928\n",
      "Epoch 14/15\n",
      "60000/60000 [==============================] - 271s 5ms/step - loss: 0.0203 - acc: 0.9933 - val_loss: 0.0276 - val_acc: 0.9919\n",
      "Epoch 15/15\n",
      "60000/60000 [==============================] - 271s 5ms/step - loss: 0.0187 - acc: 0.9937 - val_loss: 0.0283 - val_acc: 0.9922\n"
     ]
    },
    {
     "data": {
      "text/plain": [
       "<keras.callbacks.History at 0x259deb60a58>"
      ]
     },
     "execution_count": 6,
     "metadata": {},
     "output_type": "execute_result"
    }
   ],
   "source": [
    "model.fit(X_train, y_train, batch_size=128, epochs=15, verbose=1,\n",
    "          validation_data=(X_test,y_test), callbacks=[tensor_board])"
   ]
  },
  {
   "cell_type": "code",
   "execution_count": null,
   "metadata": {},
   "outputs": [],
   "source": []
  }
 ],
 "metadata": {
  "kernelspec": {
   "display_name": "Python 3",
   "language": "python",
   "name": "python3"
  },
  "language_info": {
   "codemirror_mode": {
    "name": "ipython",
    "version": 3
   },
   "file_extension": ".py",
   "mimetype": "text/x-python",
   "name": "python",
   "nbconvert_exporter": "python",
   "pygments_lexer": "ipython3",
   "version": "3.6.6"
  }
 },
 "nbformat": 4,
 "nbformat_minor": 2
}
